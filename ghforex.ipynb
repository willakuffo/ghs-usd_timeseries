{
  "nbformat": 4,
  "nbformat_minor": 0,
  "metadata": {
    "colab": {
      "name": "ghforex.ipynb",
      "provenance": [],
      "collapsed_sections": [],
      "authorship_tag": "ABX9TyM4jpkZisA6Hr8/4Tunl5l+",
      "include_colab_link": true
    },
    "kernelspec": {
      "name": "python3",
      "display_name": "Python 3"
    }
  },
  "cells": [
    {
      "cell_type": "markdown",
      "metadata": {
        "id": "view-in-github",
        "colab_type": "text"
      },
      "source": [
        "<a href=\"https://colab.research.google.com/github/willakuffo/ghs-usd_timeseries/blob/master/ghforex.ipynb\" target=\"_parent\"><img src=\"https://colab.research.google.com/assets/colab-badge.svg\" alt=\"Open In Colab\"/></a>"
      ]
    },
    {
      "cell_type": "markdown",
      "metadata": {
        "id": "UqFHWBZYuiMa",
        "colab_type": "text"
      },
      "source": [
        "># ghforex\n",
        "This notebook is used to make some exploratory data anlaysis on [data](https://finance.yahoo.com/quote/GHS%3DX/history?p=GHS%3DX) based on the exchange rate of the Ghana Cedi `GHS` and the US Dollar `$ USD` \n",
        "[Source](https://finance.yahoo.com/quote/GHS%3DX/history?p=GHS%3DX)\n",
        "\n",
        "\n",
        "\n",
        "\n",
        "## `Relevant` *Features or Columns* \n",
        "\n",
        "\n",
        "\n",
        "\n",
        ">`Date   ` Date the row was sampled\n",
        "\n",
        ">`Open   ` Open market exchange rate on that day\n",
        "\n",
        ">`Close  ` Close market exchange rate on that day\n",
        "\n",
        ">`High  ` Highest market exchange rate on that day\n",
        "\n",
        ">`Low  ` Lowest market exchange rate on that day\n",
        "\n",
        "\n",
        "\n",
        "\n",
        "\n",
        "\n",
        "\n"
      ]
    },
    {
      "cell_type": "code",
      "metadata": {
        "id": "FOl-UCfndjwz",
        "colab_type": "code",
        "colab": {}
      },
      "source": [
        ""
      ],
      "execution_count": 7,
      "outputs": []
    },
    {
      "cell_type": "code",
      "metadata": {
        "id": "VI_0wO8Uua9O",
        "colab_type": "code",
        "colab": {}
      },
      "source": [
        "\n",
        "#load and read data as dataframe using pandas\n",
        "\n",
        "import pandas as pd\n",
        "df = pd.read_csv(\"ghusd.csv\")\n",
        "\n"
      ],
      "execution_count": 8,
      "outputs": []
    },
    {
      "cell_type": "code",
      "metadata": {
        "id": "AzIjWRqaZZy7",
        "colab_type": "code",
        "colab": {
          "base_uri": "https://localhost:8080/",
          "height": 191
        },
        "outputId": "832a4287-5ca7-4f6e-97e5-a826d7f185f3"
      },
      "source": [
        "#data head\n",
        "df.head()"
      ],
      "execution_count": 9,
      "outputs": [
        {
          "output_type": "execute_result",
          "data": {
            "text/html": [
              "<div>\n",
              "<style scoped>\n",
              "    .dataframe tbody tr th:only-of-type {\n",
              "        vertical-align: middle;\n",
              "    }\n",
              "\n",
              "    .dataframe tbody tr th {\n",
              "        vertical-align: top;\n",
              "    }\n",
              "\n",
              "    .dataframe thead th {\n",
              "        text-align: right;\n",
              "    }\n",
              "</style>\n",
              "<table border=\"1\" class=\"dataframe\">\n",
              "  <thead>\n",
              "    <tr style=\"text-align: right;\">\n",
              "      <th></th>\n",
              "      <th>Date</th>\n",
              "      <th>Open</th>\n",
              "      <th>High</th>\n",
              "      <th>Low</th>\n",
              "      <th>Close</th>\n",
              "      <th>Adj Close</th>\n",
              "      <th>Volume</th>\n",
              "    </tr>\n",
              "  </thead>\n",
              "  <tbody>\n",
              "    <tr>\n",
              "      <th>0</th>\n",
              "      <td>2007-07-11</td>\n",
              "      <td>0.89961</td>\n",
              "      <td>0.90289</td>\n",
              "      <td>0.89840</td>\n",
              "      <td>0.90216</td>\n",
              "      <td>0.90216</td>\n",
              "      <td>0.0</td>\n",
              "    </tr>\n",
              "    <tr>\n",
              "      <th>1</th>\n",
              "      <td>2007-07-12</td>\n",
              "      <td>0.90220</td>\n",
              "      <td>0.90986</td>\n",
              "      <td>0.89935</td>\n",
              "      <td>0.90834</td>\n",
              "      <td>0.90834</td>\n",
              "      <td>0.0</td>\n",
              "    </tr>\n",
              "    <tr>\n",
              "      <th>2</th>\n",
              "      <td>2007-07-13</td>\n",
              "      <td>0.90831</td>\n",
              "      <td>0.91186</td>\n",
              "      <td>0.90801</td>\n",
              "      <td>0.91120</td>\n",
              "      <td>0.91120</td>\n",
              "      <td>0.0</td>\n",
              "    </tr>\n",
              "    <tr>\n",
              "      <th>3</th>\n",
              "      <td>2007-07-16</td>\n",
              "      <td>0.91186</td>\n",
              "      <td>0.91239</td>\n",
              "      <td>0.90733</td>\n",
              "      <td>0.90862</td>\n",
              "      <td>0.90862</td>\n",
              "      <td>0.0</td>\n",
              "    </tr>\n",
              "    <tr>\n",
              "      <th>4</th>\n",
              "      <td>2007-07-17</td>\n",
              "      <td>0.90868</td>\n",
              "      <td>0.91120</td>\n",
              "      <td>0.90733</td>\n",
              "      <td>0.90975</td>\n",
              "      <td>0.90975</td>\n",
              "      <td>0.0</td>\n",
              "    </tr>\n",
              "  </tbody>\n",
              "</table>\n",
              "</div>"
            ],
            "text/plain": [
              "         Date     Open     High      Low    Close  Adj Close  Volume\n",
              "0  2007-07-11  0.89961  0.90289  0.89840  0.90216    0.90216     0.0\n",
              "1  2007-07-12  0.90220  0.90986  0.89935  0.90834    0.90834     0.0\n",
              "2  2007-07-13  0.90831  0.91186  0.90801  0.91120    0.91120     0.0\n",
              "3  2007-07-16  0.91186  0.91239  0.90733  0.90862    0.90862     0.0\n",
              "4  2007-07-17  0.90868  0.91120  0.90733  0.90975    0.90975     0.0"
            ]
          },
          "metadata": {
            "tags": []
          },
          "execution_count": 9
        }
      ]
    },
    {
      "cell_type": "code",
      "metadata": {
        "id": "KgAnyeQ-ZVbV",
        "colab_type": "code",
        "colab": {
          "base_uri": "https://localhost:8080/",
          "height": 191
        },
        "outputId": "9d9c8a02-ab33-4b7e-9b9d-249544d06419"
      },
      "source": [
        "df.tail()"
      ],
      "execution_count": 10,
      "outputs": [
        {
          "output_type": "execute_result",
          "data": {
            "text/html": [
              "<div>\n",
              "<style scoped>\n",
              "    .dataframe tbody tr th:only-of-type {\n",
              "        vertical-align: middle;\n",
              "    }\n",
              "\n",
              "    .dataframe tbody tr th {\n",
              "        vertical-align: top;\n",
              "    }\n",
              "\n",
              "    .dataframe thead th {\n",
              "        text-align: right;\n",
              "    }\n",
              "</style>\n",
              "<table border=\"1\" class=\"dataframe\">\n",
              "  <thead>\n",
              "    <tr style=\"text-align: right;\">\n",
              "      <th></th>\n",
              "      <th>Date</th>\n",
              "      <th>Open</th>\n",
              "      <th>High</th>\n",
              "      <th>Low</th>\n",
              "      <th>Close</th>\n",
              "      <th>Adj Close</th>\n",
              "      <th>Volume</th>\n",
              "    </tr>\n",
              "  </thead>\n",
              "  <tbody>\n",
              "    <tr>\n",
              "      <th>3435</th>\n",
              "      <td>2020-09-09</td>\n",
              "      <td>5.76137</td>\n",
              "      <td>5.76137</td>\n",
              "      <td>5.74000</td>\n",
              "      <td>5.7400</td>\n",
              "      <td>5.7400</td>\n",
              "      <td>0.0</td>\n",
              "    </tr>\n",
              "    <tr>\n",
              "      <th>3436</th>\n",
              "      <td>2020-09-10</td>\n",
              "      <td>5.73164</td>\n",
              "      <td>5.75920</td>\n",
              "      <td>5.73164</td>\n",
              "      <td>5.7400</td>\n",
              "      <td>5.7400</td>\n",
              "      <td>0.0</td>\n",
              "    </tr>\n",
              "    <tr>\n",
              "      <th>3437</th>\n",
              "      <td>2020-09-11</td>\n",
              "      <td>5.76037</td>\n",
              "      <td>5.76037</td>\n",
              "      <td>5.74000</td>\n",
              "      <td>5.7400</td>\n",
              "      <td>5.7400</td>\n",
              "      <td>0.0</td>\n",
              "    </tr>\n",
              "    <tr>\n",
              "      <th>3438</th>\n",
              "      <td>2020-09-14</td>\n",
              "      <td>5.77092</td>\n",
              "      <td>5.77092</td>\n",
              "      <td>5.74000</td>\n",
              "      <td>5.7400</td>\n",
              "      <td>5.7400</td>\n",
              "      <td>0.0</td>\n",
              "    </tr>\n",
              "    <tr>\n",
              "      <th>3439</th>\n",
              "      <td>2020-09-15</td>\n",
              "      <td>5.72900</td>\n",
              "      <td>5.77000</td>\n",
              "      <td>5.72900</td>\n",
              "      <td>5.7295</td>\n",
              "      <td>5.7295</td>\n",
              "      <td>0.0</td>\n",
              "    </tr>\n",
              "  </tbody>\n",
              "</table>\n",
              "</div>"
            ],
            "text/plain": [
              "            Date     Open     High      Low   Close  Adj Close  Volume\n",
              "3435  2020-09-09  5.76137  5.76137  5.74000  5.7400     5.7400     0.0\n",
              "3436  2020-09-10  5.73164  5.75920  5.73164  5.7400     5.7400     0.0\n",
              "3437  2020-09-11  5.76037  5.76037  5.74000  5.7400     5.7400     0.0\n",
              "3438  2020-09-14  5.77092  5.77092  5.74000  5.7400     5.7400     0.0\n",
              "3439  2020-09-15  5.72900  5.77000  5.72900  5.7295     5.7295     0.0"
            ]
          },
          "metadata": {
            "tags": []
          },
          "execution_count": 10
        }
      ]
    },
    {
      "cell_type": "code",
      "metadata": {
        "id": "3fYrxZq7_vBG",
        "colab_type": "code",
        "colab": {
          "base_uri": "https://localhost:8080/",
          "height": 277
        },
        "outputId": "75be605c-4cb5-4357-d2c7-82b697f724a3"
      },
      "source": [
        "# describe some statistical variables of the dataset\n",
        "df.describe()"
      ],
      "execution_count": 11,
      "outputs": [
        {
          "output_type": "execute_result",
          "data": {
            "text/html": [
              "<div>\n",
              "<style scoped>\n",
              "    .dataframe tbody tr th:only-of-type {\n",
              "        vertical-align: middle;\n",
              "    }\n",
              "\n",
              "    .dataframe tbody tr th {\n",
              "        vertical-align: top;\n",
              "    }\n",
              "\n",
              "    .dataframe thead th {\n",
              "        text-align: right;\n",
              "    }\n",
              "</style>\n",
              "<table border=\"1\" class=\"dataframe\">\n",
              "  <thead>\n",
              "    <tr style=\"text-align: right;\">\n",
              "      <th></th>\n",
              "      <th>Open</th>\n",
              "      <th>High</th>\n",
              "      <th>Low</th>\n",
              "      <th>Close</th>\n",
              "      <th>Adj Close</th>\n",
              "      <th>Volume</th>\n",
              "    </tr>\n",
              "  </thead>\n",
              "  <tbody>\n",
              "    <tr>\n",
              "      <th>count</th>\n",
              "      <td>3429.000000</td>\n",
              "      <td>3429.000000</td>\n",
              "      <td>3429.000000</td>\n",
              "      <td>3429.000000</td>\n",
              "      <td>3429.000000</td>\n",
              "      <td>3429.0</td>\n",
              "    </tr>\n",
              "    <tr>\n",
              "      <th>mean</th>\n",
              "      <td>2.947887</td>\n",
              "      <td>3.138920</td>\n",
              "      <td>2.933735</td>\n",
              "      <td>3.159399</td>\n",
              "      <td>3.159399</td>\n",
              "      <td>0.0</td>\n",
              "    </tr>\n",
              "    <tr>\n",
              "      <th>std</th>\n",
              "      <td>1.561181</td>\n",
              "      <td>7.131101</td>\n",
              "      <td>1.553151</td>\n",
              "      <td>10.180028</td>\n",
              "      <td>10.180028</td>\n",
              "      <td>0.0</td>\n",
              "    </tr>\n",
              "    <tr>\n",
              "      <th>min</th>\n",
              "      <td>0.899610</td>\n",
              "      <td>0.902890</td>\n",
              "      <td>0.600000</td>\n",
              "      <td>0.902160</td>\n",
              "      <td>0.902160</td>\n",
              "      <td>0.0</td>\n",
              "    </tr>\n",
              "    <tr>\n",
              "      <th>25%</th>\n",
              "      <td>1.462000</td>\n",
              "      <td>1.467600</td>\n",
              "      <td>1.456400</td>\n",
              "      <td>1.461900</td>\n",
              "      <td>1.461900</td>\n",
              "      <td>0.0</td>\n",
              "    </tr>\n",
              "    <tr>\n",
              "      <th>50%</th>\n",
              "      <td>2.488300</td>\n",
              "      <td>2.521900</td>\n",
              "      <td>2.482300</td>\n",
              "      <td>2.485000</td>\n",
              "      <td>2.485000</td>\n",
              "      <td>0.0</td>\n",
              "    </tr>\n",
              "    <tr>\n",
              "      <th>75%</th>\n",
              "      <td>4.364700</td>\n",
              "      <td>4.400000</td>\n",
              "      <td>4.355600</td>\n",
              "      <td>4.370000</td>\n",
              "      <td>4.370000</td>\n",
              "      <td>0.0</td>\n",
              "    </tr>\n",
              "    <tr>\n",
              "      <th>max</th>\n",
              "      <td>5.818130</td>\n",
              "      <td>380.000000</td>\n",
              "      <td>5.763620</td>\n",
              "      <td>573.000000</td>\n",
              "      <td>573.000000</td>\n",
              "      <td>0.0</td>\n",
              "    </tr>\n",
              "  </tbody>\n",
              "</table>\n",
              "</div>"
            ],
            "text/plain": [
              "              Open         High          Low        Close    Adj Close  Volume\n",
              "count  3429.000000  3429.000000  3429.000000  3429.000000  3429.000000  3429.0\n",
              "mean      2.947887     3.138920     2.933735     3.159399     3.159399     0.0\n",
              "std       1.561181     7.131101     1.553151    10.180028    10.180028     0.0\n",
              "min       0.899610     0.902890     0.600000     0.902160     0.902160     0.0\n",
              "25%       1.462000     1.467600     1.456400     1.461900     1.461900     0.0\n",
              "50%       2.488300     2.521900     2.482300     2.485000     2.485000     0.0\n",
              "75%       4.364700     4.400000     4.355600     4.370000     4.370000     0.0\n",
              "max       5.818130   380.000000     5.763620   573.000000   573.000000     0.0"
            ]
          },
          "metadata": {
            "tags": []
          },
          "execution_count": 11
        }
      ]
    },
    {
      "cell_type": "code",
      "metadata": {
        "id": "eWZBMrQSfLRF",
        "colab_type": "code",
        "colab": {}
      },
      "source": [
        ""
      ],
      "execution_count": 11,
      "outputs": []
    },
    {
      "cell_type": "markdown",
      "metadata": {
        "id": "FDWLyH52ZwG5",
        "colab_type": "text"
      },
      "source": [
        "There is a little chance that the statistical description of the data above may be slightly inaccurate due to outliers and missing values which may affect the values of the mean and standard deviations."
      ]
    },
    {
      "cell_type": "code",
      "metadata": {
        "id": "o1coxA_Afc5q",
        "colab_type": "code",
        "colab": {
          "base_uri": "https://localhost:8080/",
          "height": 50
        },
        "outputId": "7832db22-327b-4705-8a8f-a6a178965b4b"
      },
      "source": [
        "old_means,old_stds = {},{}\n",
        "for column in df.columns[1:len(df.columns)]:\n",
        "  old_means[column] = df.describe()[column]['mean']\n",
        "  old_stds[column] = df.describe()[column]['std']\n",
        "\n",
        "print('means ',old_means,'\\nstds: ',old_stds)"
      ],
      "execution_count": 12,
      "outputs": [
        {
          "output_type": "stream",
          "text": [
            "means  {'Open': 2.9478868737241166, 'High': 3.1389198568095655, 'Low': 2.933735138524343, 'Close': 3.159398772236793, 'Adj Close': 3.159398772236793, 'Volume': 0.0} \n",
            "stds:  {'Open': 1.561181410587833, 'High': 7.131100572758862, 'Low': 1.5531514803472342, 'Close': 10.18002828652738, 'Adj Close': 10.18002828652738, 'Volume': 0.0}\n"
          ],
          "name": "stdout"
        }
      ]
    },
    {
      "cell_type": "code",
      "metadata": {
        "id": "PaKdZ4CEBbsE",
        "colab_type": "code",
        "colab": {
          "base_uri": "https://localhost:8080/",
          "height": 245
        },
        "outputId": "7d5de97a-6000-440b-b0fe-ac29599462b5"
      },
      "source": [
        "#some extra information on dataset\n",
        "df.info()"
      ],
      "execution_count": 13,
      "outputs": [
        {
          "output_type": "stream",
          "text": [
            "<class 'pandas.core.frame.DataFrame'>\n",
            "RangeIndex: 3440 entries, 0 to 3439\n",
            "Data columns (total 7 columns):\n",
            " #   Column     Non-Null Count  Dtype  \n",
            "---  ------     --------------  -----  \n",
            " 0   Date       3440 non-null   object \n",
            " 1   Open       3429 non-null   float64\n",
            " 2   High       3429 non-null   float64\n",
            " 3   Low        3429 non-null   float64\n",
            " 4   Close      3429 non-null   float64\n",
            " 5   Adj Close  3429 non-null   float64\n",
            " 6   Volume     3429 non-null   float64\n",
            "dtypes: float64(6), object(1)\n",
            "memory usage: 188.2+ KB\n"
          ],
          "name": "stdout"
        }
      ]
    },
    {
      "cell_type": "code",
      "metadata": {
        "id": "8La3zvs3Bbv5",
        "colab_type": "code",
        "colab": {
          "base_uri": "https://localhost:8080/",
          "height": 33
        },
        "outputId": "85a2c567-2f72-4f20-c276-9b08df1294dd"
      },
      "source": [
        "#shape of dataset\n",
        "df.shape"
      ],
      "execution_count": 14,
      "outputs": [
        {
          "output_type": "execute_result",
          "data": {
            "text/plain": [
              "(3440, 7)"
            ]
          },
          "metadata": {
            "tags": []
          },
          "execution_count": 14
        }
      ]
    },
    {
      "cell_type": "code",
      "metadata": {
        "id": "yKbqY7q5Bby-",
        "colab_type": "code",
        "colab": {
          "base_uri": "https://localhost:8080/",
          "height": 147
        },
        "outputId": "88530d6a-2e46-4786-f18c-224ea6134a73"
      },
      "source": [
        "#what data types in columns\n",
        "df.dtypes"
      ],
      "execution_count": 15,
      "outputs": [
        {
          "output_type": "execute_result",
          "data": {
            "text/plain": [
              "Date          object\n",
              "Open         float64\n",
              "High         float64\n",
              "Low          float64\n",
              "Close        float64\n",
              "Adj Close    float64\n",
              "Volume       float64\n",
              "dtype: object"
            ]
          },
          "metadata": {
            "tags": []
          },
          "execution_count": 15
        }
      ]
    },
    {
      "cell_type": "code",
      "metadata": {
        "id": "WiedYpkxBb7T",
        "colab_type": "code",
        "colab": {
          "base_uri": "https://localhost:8080/",
          "height": 147
        },
        "outputId": "f925688b-811f-4831-d03a-54bc167cb070"
      },
      "source": [
        "# see which columns have missing or null values\n",
        "df.isnull().any()"
      ],
      "execution_count": 16,
      "outputs": [
        {
          "output_type": "execute_result",
          "data": {
            "text/plain": [
              "Date         False\n",
              "Open          True\n",
              "High          True\n",
              "Low           True\n",
              "Close         True\n",
              "Adj Close     True\n",
              "Volume        True\n",
              "dtype: bool"
            ]
          },
          "metadata": {
            "tags": []
          },
          "execution_count": 16
        }
      ]
    },
    {
      "cell_type": "code",
      "metadata": {
        "id": "O6WrzIhyCLou",
        "colab_type": "code",
        "colab": {
          "base_uri": "https://localhost:8080/",
          "height": 147
        },
        "outputId": "8f5122d5-634b-4547-8c7f-b7f663adbde9"
      },
      "source": [
        "#check sum of all null values in columns\n",
        "df.isnull().sum()"
      ],
      "execution_count": 17,
      "outputs": [
        {
          "output_type": "execute_result",
          "data": {
            "text/plain": [
              "Date          0\n",
              "Open         11\n",
              "High         11\n",
              "Low          11\n",
              "Close        11\n",
              "Adj Close    11\n",
              "Volume       11\n",
              "dtype: int64"
            ]
          },
          "metadata": {
            "tags": []
          },
          "execution_count": 17
        }
      ]
    },
    {
      "cell_type": "code",
      "metadata": {
        "id": "h3v6Ddr0DP51",
        "colab_type": "code",
        "colab": {
          "base_uri": "https://localhost:8080/",
          "height": 50
        },
        "outputId": "3f278bc5-b29b-47fc-97f5-101c30fe8a88"
      },
      "source": [
        "#percentage of data left if nulls are dropped in each coloumn of this dataset\n",
        "null = 11 #no of total null values in each column\n",
        "p = (df.shape[0] - null)/df.shape[0]\n",
        "print(\"fraction of data to be dropped     :\",p,'\\nfraction of data that will be left :',1-p)"
      ],
      "execution_count": 18,
      "outputs": [
        {
          "output_type": "stream",
          "text": [
            "fraction of data to be dropped     : 0.9968023255813954 \n",
            "fraction of data that will be left : 0.0031976744186046346\n"
          ],
          "name": "stdout"
        }
      ]
    },
    {
      "cell_type": "markdown",
      "metadata": {
        "id": "Nk1kHXykamh8",
        "colab_type": "text"
      },
      "source": [
        "This percentage loss seems very insignificant if missing values are dropped. but i personally like to handle them by interpolating or handling with means\n"
      ]
    },
    {
      "cell_type": "code",
      "metadata": {
        "id": "78vc5RoH8c9z",
        "colab_type": "code",
        "colab": {
          "base_uri": "https://localhost:8080/",
          "height": 568
        },
        "outputId": "75f87edb-e4e6-44d1-b7b1-748e690e0d69"
      },
      "source": [
        "print('\\t\\t\\tVisualize exchange rates\\n')\n",
        "\n",
        "\n",
        "import matplotlib.pyplot as plt\n",
        "plt.style.use('fivethirtyeight')\n",
        "fig,axes= plt.subplots(2,2,figsize = (10,8))\n",
        "axes[0,0].plot(range(df.shape[0]),df['Open'].values,color = 'y')\n",
        "axes[0,1].plot(range(df.shape[0]),df['Close'].values,color = 'b')\n",
        "axes[1,0].plot(range(df.shape[0]),df['High'].values,color = 'g')\n",
        "axes[1,1].plot(range(df.shape[0]),df['Low'].values,color = 'r')\n",
        "axes[0,0].set_title(\"open\")\n",
        "axes[0,1].set_title(\"close\")\n",
        "axes[1,0].set_title(\"high\")\n",
        "axes[1,1].set_title(\"low\")\n",
        "\n",
        "\n",
        "plt.show()\n"
      ],
      "execution_count": 19,
      "outputs": [
        {
          "output_type": "stream",
          "text": [
            "\t\t\tVisualize exchange rates\n",
            "\n"
          ],
          "name": "stdout"
        },
        {
          "output_type": "display_data",
          "data": {
            "image/png": "[encoded data removed]",
            "text/plain": [
              "<Figure size 720x576 with 4 Axes>"
            ]
          },
          "metadata": {
            "tags": []
          }
        }
      ]
    },
    {
      "cell_type": "markdown",
      "metadata": {
        "id": "8a6tTOFwbK97",
        "colab_type": "text"
      },
      "source": [
        "It is quite clear that `close`,`high` and `low` columns in the forex dataset have abnormal values. These are anomalies or outliers"
      ]
    },
    {
      "cell_type": "code",
      "metadata": {
        "id": "Ds5KVRJbbJnv",
        "colab_type": "code",
        "colab": {}
      },
      "source": [
        ""
      ],
      "execution_count": 19,
      "outputs": []
    },
    {
      "cell_type": "code",
      "metadata": {
        "id": "AR6Iot2ybK7f",
        "colab_type": "code",
        "colab": {}
      },
      "source": [
        "#get the date corresponding to a particular point on the x axis or row\n",
        "def getDate(row_no):\n",
        "    '''Get the date of a particular sample or row  \n",
        "    '''\n",
        "    return df['Date'][row_no]\n",
        "  "
      ],
      "execution_count": 20,
      "outputs": []
    },
    {
      "cell_type": "code",
      "metadata": {
        "id": "3euIQ-O1epb3",
        "colab_type": "code",
        "colab": {
          "base_uri": "https://localhost:8080/",
          "height": 33
        },
        "outputId": "c1242eae-cbf6-47d3-ab3b-cdf3fbca047a"
      },
      "source": [
        "#get date at the nth data point or nth row in the df or  axis\n",
        "row_index = 60\n",
        "print('The date at the '+str(row_index)+'th is',getDate(row_index))"
      ],
      "execution_count": 21,
      "outputs": [
        {
          "output_type": "stream",
          "text": [
            "The date at the 60th is 2007-10-03\n"
          ],
          "name": "stdout"
        }
      ]
    },
    {
      "cell_type": "code",
      "metadata": {
        "id": "Pt2nSYS4epk1",
        "colab_type": "code",
        "colab": {}
      },
      "source": [
        ""
      ],
      "execution_count": 21,
      "outputs": []
    },
    {
      "cell_type": "code",
      "metadata": {
        "id": "s8RJyQIbepn2",
        "colab_type": "code",
        "colab": {}
      },
      "source": [
        "def getRow(date):\n",
        "  '''yy-mm-dd'''\n",
        "  return df.index[df['Date']== date][0]\n"
      ],
      "execution_count": 22,
      "outputs": []
    },
    {
      "cell_type": "code",
      "metadata": {
        "id": "Ul4mLVbpc4Jh",
        "colab_type": "code",
        "colab": {
          "base_uri": "https://localhost:8080/",
          "height": 33
        },
        "outputId": "0f71cf66-39b1-463e-a6ef-f4f2f62bc7a7"
      },
      "source": [
        "date = '2007-10-03'\n",
        "print('The row index of '+str(date)+'th is',getRow(date))"
      ],
      "execution_count": 23,
      "outputs": [
        {
          "output_type": "stream",
          "text": [
            "The row index of 2007-10-03th is 60\n"
          ],
          "name": "stdout"
        }
      ]
    },
    {
      "cell_type": "code",
      "metadata": {
        "id": "NTrgeAgDbK-o",
        "colab_type": "code",
        "colab": {}
      },
      "source": [
        "\n",
        "def zoom(scope = [0,100],column  = None,from_ = None,to = None):\n",
        "  \n",
        "    '''allows you to zoom into the data given a scope or range\n",
        "    if from and to are not None, \n",
        "    from  or to (format) = yy-mm-dd\n",
        "    dates are sed rather than scope\n",
        "  \n",
        "    '''\n",
        "    start = scope[0]\n",
        "    end = scope[1]\n",
        "\n",
        "    if from_ !=None and to !=None:\n",
        "      start = df.index[df['Date']== from_][0]\n",
        "      end = df.index[df['Date']== to][0]\n",
        "      print('zoomed from',from_,'to',to)\n",
        "       \n",
        "                                                                                                                                                                                                                                               \n",
        "    print('zoomed in, from ',start,' to ',end)\n",
        "    plt.figure(figsize=(8,6))\n",
        "    plt.title(column)\n",
        "    plt.plot(list(range(df.shape[0])[start:end]),list(df[column])[start:end])\n",
        "    #plt.plot(list(range(df.shape[0])),list(df[column]))\n",
        "\n",
        "    plt.show()"
      ],
      "execution_count": 24,
      "outputs": []
    },
    {
      "cell_type": "code",
      "metadata": {
        "id": "a2sUR_Gbc3JZ",
        "colab_type": "code",
        "colab": {}
      },
      "source": [
        ""
      ],
      "execution_count": 24,
      "outputs": []
    },
    {
      "cell_type": "code",
      "metadata": {
        "id": "YBUGm3GZbLa1",
        "colab_type": "code",
        "colab": {
          "base_uri": "https://localhost:8080/",
          "height": 435
        },
        "outputId": "2efc99cc-4194-4ced-9b2d-fc7d2d5c0602"
      },
      "source": [
        "#visualize portions\n",
        "#zoom(column = \"High\",from_ = \"2016-01-01\",to = '2019-02-01')#scope = [100,200])\n",
        "zoom(column = 'High',scope=[100,200])"
      ],
      "execution_count": 25,
      "outputs": [
        {
          "output_type": "stream",
          "text": [
            "zoomed in, from  100  to  200\n"
          ],
          "name": "stdout"
        },
        {
          "output_type": "display_data",
          "data": {
            "image/png": "[encoded data removed]",
            "text/plain": [
              "<Figure size 576x432 with 1 Axes>"
            ]
          },
          "metadata": {
            "tags": []
          }
        }
      ]
    },
    {
      "cell_type": "code",
      "metadata": {
        "id": "P-0VME2Td7j8",
        "colab_type": "code",
        "colab": {
          "base_uri": "https://localhost:8080/",
          "height": 451
        },
        "outputId": "40f68abe-bd75-4b32-a7cd-cb81e1dde749"
      },
      "source": [
        "zoom(column = \"High\",from_ = \"2016-01-01\",to = '2019-02-01')"
      ],
      "execution_count": 26,
      "outputs": [
        {
          "output_type": "stream",
          "text": [
            "zoomed from 2016-01-01 to 2019-02-01\n",
            "zoomed in, from  2212  to  3017\n"
          ],
          "name": "stdout"
        },
        {
          "output_type": "display_data",
          "data": {
            "image/png": "[encoded data removed]",
            "text/plain": [
              "<Figure size 576x432 with 1 Axes>"
            ]
          },
          "metadata": {
            "tags": []
          }
        }
      ]
    },
    {
      "cell_type": "markdown",
      "metadata": {
        "id": "9Akm_xeIeCe_",
        "colab_type": "text"
      },
      "source": [
        "Spaces in visualization indicating missing or null values"
      ]
    },
    {
      "cell_type": "code",
      "metadata": {
        "id": "02VEPiRebLd1",
        "colab_type": "code",
        "colab": {}
      },
      "source": [
        ""
      ],
      "execution_count": 26,
      "outputs": []
    },
    {
      "cell_type": "markdown",
      "metadata": {
        "id": "bzEnb_SbeOiV",
        "colab_type": "text"
      },
      "source": [
        "Since this is a time series data, the value of current data at any time is dependent on previous data. I would rather not drop any rows containing null values but do an interpolation though dropping rows would also not make much of a difference because thee would still be more than 95% of the data left to work with\n",
        "\n",
        ">`assumption`\n",
        "not replacing with means because that could be a little misleading at at arly dates which have lower or values\n"
      ]
    },
    {
      "cell_type": "code",
      "metadata": {
        "id": "hQOjnX18CLro",
        "colab_type": "code",
        "colab": {}
      },
      "source": [
        ""
      ],
      "execution_count": 26,
      "outputs": []
    },
    {
      "cell_type": "code",
      "metadata": {
        "id": "zxeMCDfOCLuT",
        "colab_type": "code",
        "colab": {
          "base_uri": "https://localhost:8080/",
          "height": 391
        },
        "outputId": "bc9d76ee-6952-4bf7-f560-19ffddebfcc8"
      },
      "source": [
        "#deal with missing values via interpolating values in columns\n",
        "df = df.interpolate()\n",
        "df"
      ],
      "execution_count": 27,
      "outputs": [
        {
          "output_type": "execute_result",
          "data": {
            "text/html": [
              "<div>\n",
              "<style scoped>\n",
              "    .dataframe tbody tr th:only-of-type {\n",
              "        vertical-align: middle;\n",
              "    }\n",
              "\n",
              "    .dataframe tbody tr th {\n",
              "        vertical-align: top;\n",
              "    }\n",
              "\n",
              "    .dataframe thead th {\n",
              "        text-align: right;\n",
              "    }\n",
              "</style>\n",
              "<table border=\"1\" class=\"dataframe\">\n",
              "  <thead>\n",
              "    <tr style=\"text-align: right;\">\n",
              "      <th></th>\n",
              "      <th>Date</th>\n",
              "      <th>Open</th>\n",
              "      <th>High</th>\n",
              "      <th>Low</th>\n",
              "      <th>Close</th>\n",
              "      <th>Adj Close</th>\n",
              "      <th>Volume</th>\n",
              "    </tr>\n",
              "  </thead>\n",
              "  <tbody>\n",
              "    <tr>\n",
              "      <th>0</th>\n",
              "      <td>2007-07-11</td>\n",
              "      <td>0.89961</td>\n",
              "      <td>0.90289</td>\n",
              "      <td>0.89840</td>\n",
              "      <td>0.90216</td>\n",
              "      <td>0.90216</td>\n",
              "      <td>0.0</td>\n",
              "    </tr>\n",
              "    <tr>\n",
              "      <th>1</th>\n",
              "      <td>2007-07-12</td>\n",
              "      <td>0.90220</td>\n",
              "      <td>0.90986</td>\n",
              "      <td>0.89935</td>\n",
              "      <td>0.90834</td>\n",
              "      <td>0.90834</td>\n",
              "      <td>0.0</td>\n",
              "    </tr>\n",
              "    <tr>\n",
              "      <th>2</th>\n",
              "      <td>2007-07-13</td>\n",
              "      <td>0.90831</td>\n",
              "      <td>0.91186</td>\n",
              "      <td>0.90801</td>\n",
              "      <td>0.91120</td>\n",
              "      <td>0.91120</td>\n",
              "      <td>0.0</td>\n",
              "    </tr>\n",
              "    <tr>\n",
              "      <th>3</th>\n",
              "      <td>2007-07-16</td>\n",
              "      <td>0.91186</td>\n",
              "      <td>0.91239</td>\n",
              "      <td>0.90733</td>\n",
              "      <td>0.90862</td>\n",
              "      <td>0.90862</td>\n",
              "      <td>0.0</td>\n",
              "    </tr>\n",
              "    <tr>\n",
              "      <th>4</th>\n",
              "      <td>2007-07-17</td>\n",
              "      <td>0.90868</td>\n",
              "      <td>0.91120</td>\n",
              "      <td>0.90733</td>\n",
              "      <td>0.90975</td>\n",
              "      <td>0.90975</td>\n",
              "      <td>0.0</td>\n",
              "    </tr>\n",
              "    <tr>\n",
              "      <th>...</th>\n",
              "      <td>...</td>\n",
              "      <td>...</td>\n",
              "      <td>...</td>\n",
              "      <td>...</td>\n",
              "      <td>...</td>\n",
              "      <td>...</td>\n",
              "      <td>...</td>\n",
              "    </tr>\n",
              "    <tr>\n",
              "      <th>3435</th>\n",
              "      <td>2020-09-09</td>\n",
              "      <td>5.76137</td>\n",
              "      <td>5.76137</td>\n",
              "      <td>5.74000</td>\n",
              "      <td>5.74000</td>\n",
              "      <td>5.74000</td>\n",
              "      <td>0.0</td>\n",
              "    </tr>\n",
              "    <tr>\n",
              "      <th>3436</th>\n",
              "      <td>2020-09-10</td>\n",
              "      <td>5.73164</td>\n",
              "      <td>5.75920</td>\n",
              "      <td>5.73164</td>\n",
              "      <td>5.74000</td>\n",
              "      <td>5.74000</td>\n",
              "      <td>0.0</td>\n",
              "    </tr>\n",
              "    <tr>\n",
              "      <th>3437</th>\n",
              "      <td>2020-09-11</td>\n",
              "      <td>5.76037</td>\n",
              "      <td>5.76037</td>\n",
              "      <td>5.74000</td>\n",
              "      <td>5.74000</td>\n",
              "      <td>5.74000</td>\n",
              "      <td>0.0</td>\n",
              "    </tr>\n",
              "    <tr>\n",
              "      <th>3438</th>\n",
              "      <td>2020-09-14</td>\n",
              "      <td>5.77092</td>\n",
              "      <td>5.77092</td>\n",
              "      <td>5.74000</td>\n",
              "      <td>5.74000</td>\n",
              "      <td>5.74000</td>\n",
              "      <td>0.0</td>\n",
              "    </tr>\n",
              "    <tr>\n",
              "      <th>3439</th>\n",
              "      <td>2020-09-15</td>\n",
              "      <td>5.72900</td>\n",
              "      <td>5.77000</td>\n",
              "      <td>5.72900</td>\n",
              "      <td>5.72950</td>\n",
              "      <td>5.72950</td>\n",
              "      <td>0.0</td>\n",
              "    </tr>\n",
              "  </tbody>\n",
              "</table>\n",
              "<p>3440 rows × 7 columns</p>\n",
              "</div>"
            ],
            "text/plain": [
              "            Date     Open     High      Low    Close  Adj Close  Volume\n",
              "0     2007-07-11  0.89961  0.90289  0.89840  0.90216    0.90216     0.0\n",
              "1     2007-07-12  0.90220  0.90986  0.89935  0.90834    0.90834     0.0\n",
              "2     2007-07-13  0.90831  0.91186  0.90801  0.91120    0.91120     0.0\n",
              "3     2007-07-16  0.91186  0.91239  0.90733  0.90862    0.90862     0.0\n",
              "4     2007-07-17  0.90868  0.91120  0.90733  0.90975    0.90975     0.0\n",
              "...          ...      ...      ...      ...      ...        ...     ...\n",
              "3435  2020-09-09  5.76137  5.76137  5.74000  5.74000    5.74000     0.0\n",
              "3436  2020-09-10  5.73164  5.75920  5.73164  5.74000    5.74000     0.0\n",
              "3437  2020-09-11  5.76037  5.76037  5.74000  5.74000    5.74000     0.0\n",
              "3438  2020-09-14  5.77092  5.77092  5.74000  5.74000    5.74000     0.0\n",
              "3439  2020-09-15  5.72900  5.77000  5.72900  5.72950    5.72950     0.0\n",
              "\n",
              "[3440 rows x 7 columns]"
            ]
          },
          "metadata": {
            "tags": []
          },
          "execution_count": 27
        }
      ]
    },
    {
      "cell_type": "code",
      "metadata": {
        "id": "qfBOxXxCCLxD",
        "colab_type": "code",
        "colab": {
          "base_uri": "https://localhost:8080/",
          "height": 277
        },
        "outputId": "d341acb7-fb12-43a3-a851-71ffdedfdad1"
      },
      "source": [
        "df.describe()"
      ],
      "execution_count": 28,
      "outputs": [
        {
          "output_type": "execute_result",
          "data": {
            "text/html": [
              "<div>\n",
              "<style scoped>\n",
              "    .dataframe tbody tr th:only-of-type {\n",
              "        vertical-align: middle;\n",
              "    }\n",
              "\n",
              "    .dataframe tbody tr th {\n",
              "        vertical-align: top;\n",
              "    }\n",
              "\n",
              "    .dataframe thead th {\n",
              "        text-align: right;\n",
              "    }\n",
              "</style>\n",
              "<table border=\"1\" class=\"dataframe\">\n",
              "  <thead>\n",
              "    <tr style=\"text-align: right;\">\n",
              "      <th></th>\n",
              "      <th>Open</th>\n",
              "      <th>High</th>\n",
              "      <th>Low</th>\n",
              "      <th>Close</th>\n",
              "      <th>Adj Close</th>\n",
              "      <th>Volume</th>\n",
              "    </tr>\n",
              "  </thead>\n",
              "  <tbody>\n",
              "    <tr>\n",
              "      <th>count</th>\n",
              "      <td>3440.000000</td>\n",
              "      <td>3440.000000</td>\n",
              "      <td>3440.000000</td>\n",
              "      <td>3440.000000</td>\n",
              "      <td>3440.000000</td>\n",
              "      <td>3440.0</td>\n",
              "    </tr>\n",
              "    <tr>\n",
              "      <th>mean</th>\n",
              "      <td>2.945314</td>\n",
              "      <td>3.135809</td>\n",
              "      <td>2.931188</td>\n",
              "      <td>3.156178</td>\n",
              "      <td>3.156178</td>\n",
              "      <td>0.0</td>\n",
              "    </tr>\n",
              "    <tr>\n",
              "      <th>std</th>\n",
              "      <td>1.561933</td>\n",
              "      <td>7.120486</td>\n",
              "      <td>1.553916</td>\n",
              "      <td>10.164299</td>\n",
              "      <td>10.164299</td>\n",
              "      <td>0.0</td>\n",
              "    </tr>\n",
              "    <tr>\n",
              "      <th>min</th>\n",
              "      <td>0.899610</td>\n",
              "      <td>0.902890</td>\n",
              "      <td>0.600000</td>\n",
              "      <td>0.902160</td>\n",
              "      <td>0.902160</td>\n",
              "      <td>0.0</td>\n",
              "    </tr>\n",
              "    <tr>\n",
              "      <th>25%</th>\n",
              "      <td>1.460550</td>\n",
              "      <td>1.466875</td>\n",
              "      <td>1.455750</td>\n",
              "      <td>1.460225</td>\n",
              "      <td>1.460225</td>\n",
              "      <td>0.0</td>\n",
              "    </tr>\n",
              "    <tr>\n",
              "      <th>50%</th>\n",
              "      <td>2.482950</td>\n",
              "      <td>2.515000</td>\n",
              "      <td>2.465350</td>\n",
              "      <td>2.475000</td>\n",
              "      <td>2.475000</td>\n",
              "      <td>0.0</td>\n",
              "    </tr>\n",
              "    <tr>\n",
              "      <th>75%</th>\n",
              "      <td>4.364700</td>\n",
              "      <td>4.400000</td>\n",
              "      <td>4.355750</td>\n",
              "      <td>4.370000</td>\n",
              "      <td>4.370000</td>\n",
              "      <td>0.0</td>\n",
              "    </tr>\n",
              "    <tr>\n",
              "      <th>max</th>\n",
              "      <td>5.818130</td>\n",
              "      <td>380.000000</td>\n",
              "      <td>5.763620</td>\n",
              "      <td>573.000000</td>\n",
              "      <td>573.000000</td>\n",
              "      <td>0.0</td>\n",
              "    </tr>\n",
              "  </tbody>\n",
              "</table>\n",
              "</div>"
            ],
            "text/plain": [
              "              Open         High          Low        Close    Adj Close  Volume\n",
              "count  3440.000000  3440.000000  3440.000000  3440.000000  3440.000000  3440.0\n",
              "mean      2.945314     3.135809     2.931188     3.156178     3.156178     0.0\n",
              "std       1.561933     7.120486     1.553916    10.164299    10.164299     0.0\n",
              "min       0.899610     0.902890     0.600000     0.902160     0.902160     0.0\n",
              "25%       1.460550     1.466875     1.455750     1.460225     1.460225     0.0\n",
              "50%       2.482950     2.515000     2.465350     2.475000     2.475000     0.0\n",
              "75%       4.364700     4.400000     4.355750     4.370000     4.370000     0.0\n",
              "max       5.818130   380.000000     5.763620   573.000000   573.000000     0.0"
            ]
          },
          "metadata": {
            "tags": []
          },
          "execution_count": 28
        }
      ]
    },
    {
      "cell_type": "code",
      "metadata": {
        "id": "VxhFmz4Og-dP",
        "colab_type": "code",
        "colab": {
          "base_uri": "https://localhost:8080/",
          "height": 50
        },
        "outputId": "4140164c-ab9f-4b39-c671-188581c4961d"
      },
      "source": [
        "new_means,new_stds = {},{}\n",
        "for column in df.columns[1:len(df.columns)]:\n",
        "  new_means[column] = df.describe()[column]['mean']\n",
        "  new_stds[column] = df.describe()[column]['std']\n",
        "\n",
        "print('means ',new_means,'\\nstds: ',new_stds)"
      ],
      "execution_count": 29,
      "outputs": [
        {
          "output_type": "stream",
          "text": [
            "means  {'Open': 2.945314415697673, 'High': 3.135808928488372, 'Low': 2.9311883938953414, 'Close': 3.1561775639534786, 'Adj Close': 3.1561775639534786, 'Volume': 0.0} \n",
            "stds:  {'Open': 1.5619328058874162, 'High': 7.1204862930872315, 'Low': 1.5539164874302396, 'Close': 10.164299362324313, 'Adj Close': 10.164299362324313, 'Volume': 0.0}\n"
          ],
          "name": "stdout"
        }
      ]
    },
    {
      "cell_type": "code",
      "metadata": {
        "id": "uih5aLAFjGM6",
        "colab_type": "code",
        "colab": {}
      },
      "source": [
        ""
      ],
      "execution_count": 29,
      "outputs": []
    },
    {
      "cell_type": "markdown",
      "metadata": {
        "id": "vqYSbUIri-Aw",
        "colab_type": "text"
      },
      "source": [
        ""
      ]
    },
    {
      "cell_type": "code",
      "metadata": {
        "id": "ISDYfrhBhHzY",
        "colab_type": "code",
        "colab": {
          "base_uri": "https://localhost:8080/",
          "height": 50
        },
        "outputId": "5291652c-cb53-483e-9e42-75de76b850ad"
      },
      "source": [
        "\n",
        "print('means ',old_means,'\\nstds: ',old_stds)"
      ],
      "execution_count": 30,
      "outputs": [
        {
          "output_type": "stream",
          "text": [
            "means  {'Open': 2.9478868737241166, 'High': 3.1389198568095655, 'Low': 2.933735138524343, 'Close': 3.159398772236793, 'Adj Close': 3.159398772236793, 'Volume': 0.0} \n",
            "stds:  {'Open': 1.561181410587833, 'High': 7.131100572758862, 'Low': 1.5531514803472342, 'Close': 10.18002828652738, 'Adj Close': 10.18002828652738, 'Volume': 0.0}\n"
          ],
          "name": "stdout"
        }
      ]
    },
    {
      "cell_type": "code",
      "metadata": {
        "id": "j8-CJ8s1gEHA",
        "colab_type": "code",
        "colab": {
          "base_uri": "https://localhost:8080/",
          "height": 245
        },
        "outputId": "89e6be93-b094-4861-fc36-5e3c22903723"
      },
      "source": [
        "df.info()"
      ],
      "execution_count": 31,
      "outputs": [
        {
          "output_type": "stream",
          "text": [
            "<class 'pandas.core.frame.DataFrame'>\n",
            "RangeIndex: 3440 entries, 0 to 3439\n",
            "Data columns (total 7 columns):\n",
            " #   Column     Non-Null Count  Dtype  \n",
            "---  ------     --------------  -----  \n",
            " 0   Date       3440 non-null   object \n",
            " 1   Open       3440 non-null   float64\n",
            " 2   High       3440 non-null   float64\n",
            " 3   Low        3440 non-null   float64\n",
            " 4   Close      3440 non-null   float64\n",
            " 5   Adj Close  3440 non-null   float64\n",
            " 6   Volume     3440 non-null   float64\n",
            "dtypes: float64(6), object(1)\n",
            "memory usage: 188.2+ KB\n"
          ],
          "name": "stdout"
        }
      ]
    },
    {
      "cell_type": "code",
      "metadata": {
        "id": "GoH6oe03CL1W",
        "colab_type": "code",
        "colab": {
          "base_uri": "https://localhost:8080/",
          "height": 435
        },
        "outputId": "e7e6d135-0b90-4b06-b4be-7e71a53e85f8"
      },
      "source": [
        "#handled missing data\n",
        "\n",
        "zoom(column = 'High',scope=[100,200])"
      ],
      "execution_count": 32,
      "outputs": [
        {
          "output_type": "stream",
          "text": [
            "zoomed in, from  100  to  200\n"
          ],
          "name": "stdout"
        },
        {
          "output_type": "display_data",
          "data": {
            "image/png": "[encoded data removed]",
            "text/plain": [
              "<Figure size 576x432 with 1 Axes>"
            ]
          },
          "metadata": {
            "tags": []
          }
        }
      ]
    },
    {
      "cell_type": "code",
      "metadata": {
        "id": "pmRcxvspCL6d",
        "colab_type": "code",
        "colab": {}
      },
      "source": [
        "#anomaly detection using kmeans\n",
        "import numpy as np"
      ],
      "execution_count": 33,
      "outputs": []
    },
    {
      "cell_type": "code",
      "metadata": {
        "id": "PblHos9OCL-T",
        "colab_type": "code",
        "colab": {}
      },
      "source": [
        "from  scipy.cluster.vq import kmeans\n",
        "from scipy import cluster\n",
        "\n",
        "def anomaly(column,clusters = 2):\n",
        "    centroids,avg_distance = kmeans(df[column].values,clusters)\n",
        "    groups,cdist = cluster.vq.vq(df[column].values,centroids)\n",
        "    plt.title(column+'_ K means clustering')\n",
        "    plt.scatter(range(df.shape[0]),df[column].values,c = groups)\n",
        "    plt.show()\n",
        "\n"
      ],
      "execution_count": 34,
      "outputs": []
    },
    {
      "cell_type": "code",
      "metadata": {
        "id": "SHpb-_gmCMC8",
        "colab_type": "code",
        "colab": {}
      },
      "source": [
        "#anomaly('High')\n",
        "#anomaly('Close')\n",
        "#anomaly('Open')\n",
        "#anomaly('Low')\n"
      ],
      "execution_count": 67,
      "outputs": []
    },
    {
      "cell_type": "code",
      "metadata": {
        "id": "4RI0h4hvCMF6",
        "colab_type": "code",
        "colab": {
          "base_uri": "https://localhost:8080/",
          "height": 391
        },
        "outputId": "d1054b56-0627-4697-e9b1-9a9384bd33de"
      },
      "source": [
        "# handling outliers\n",
        "#first replace with nans and the interpolate\n",
        "ot = 10 #outlier threshold, replace if greater than this\n",
        "\n",
        "for column in df.columns:\n",
        "  if df[column].dtypes == float:\n",
        "    df[column] = np.where(df[column]>ot,np.nan,df[column])\n",
        "df.interpolate()\n"
      ],
      "execution_count": 36,
      "outputs": [
        {
          "output_type": "execute_result",
          "data": {
            "text/html": [
              "<div>\n",
              "<style scoped>\n",
              "    .dataframe tbody tr th:only-of-type {\n",
              "        vertical-align: middle;\n",
              "    }\n",
              "\n",
              "    .dataframe tbody tr th {\n",
              "        vertical-align: top;\n",
              "    }\n",
              "\n",
              "    .dataframe thead th {\n",
              "        text-align: right;\n",
              "    }\n",
              "</style>\n",
              "<table border=\"1\" class=\"dataframe\">\n",
              "  <thead>\n",
              "    <tr style=\"text-align: right;\">\n",
              "      <th></th>\n",
              "      <th>Date</th>\n",
              "      <th>Open</th>\n",
              "      <th>High</th>\n",
              "      <th>Low</th>\n",
              "      <th>Close</th>\n",
              "      <th>Adj Close</th>\n",
              "      <th>Volume</th>\n",
              "    </tr>\n",
              "  </thead>\n",
              "  <tbody>\n",
              "    <tr>\n",
              "      <th>0</th>\n",
              "      <td>2007-07-11</td>\n",
              "      <td>0.89961</td>\n",
              "      <td>0.90289</td>\n",
              "      <td>0.89840</td>\n",
              "      <td>0.90216</td>\n",
              "      <td>0.90216</td>\n",
              "      <td>0.0</td>\n",
              "    </tr>\n",
              "    <tr>\n",
              "      <th>1</th>\n",
              "      <td>2007-07-12</td>\n",
              "      <td>0.90220</td>\n",
              "      <td>0.90986</td>\n",
              "      <td>0.89935</td>\n",
              "      <td>0.90834</td>\n",
              "      <td>0.90834</td>\n",
              "      <td>0.0</td>\n",
              "    </tr>\n",
              "    <tr>\n",
              "      <th>2</th>\n",
              "      <td>2007-07-13</td>\n",
              "      <td>0.90831</td>\n",
              "      <td>0.91186</td>\n",
              "      <td>0.90801</td>\n",
              "      <td>0.91120</td>\n",
              "      <td>0.91120</td>\n",
              "      <td>0.0</td>\n",
              "    </tr>\n",
              "    <tr>\n",
              "      <th>3</th>\n",
              "      <td>2007-07-16</td>\n",
              "      <td>0.91186</td>\n",
              "      <td>0.91239</td>\n",
              "      <td>0.90733</td>\n",
              "      <td>0.90862</td>\n",
              "      <td>0.90862</td>\n",
              "      <td>0.0</td>\n",
              "    </tr>\n",
              "    <tr>\n",
              "      <th>4</th>\n",
              "      <td>2007-07-17</td>\n",
              "      <td>0.90868</td>\n",
              "      <td>0.91120</td>\n",
              "      <td>0.90733</td>\n",
              "      <td>0.90975</td>\n",
              "      <td>0.90975</td>\n",
              "      <td>0.0</td>\n",
              "    </tr>\n",
              "    <tr>\n",
              "      <th>...</th>\n",
              "      <td>...</td>\n",
              "      <td>...</td>\n",
              "      <td>...</td>\n",
              "      <td>...</td>\n",
              "      <td>...</td>\n",
              "      <td>...</td>\n",
              "      <td>...</td>\n",
              "    </tr>\n",
              "    <tr>\n",
              "      <th>3435</th>\n",
              "      <td>2020-09-09</td>\n",
              "      <td>5.76137</td>\n",
              "      <td>5.76137</td>\n",
              "      <td>5.74000</td>\n",
              "      <td>5.74000</td>\n",
              "      <td>5.74000</td>\n",
              "      <td>0.0</td>\n",
              "    </tr>\n",
              "    <tr>\n",
              "      <th>3436</th>\n",
              "      <td>2020-09-10</td>\n",
              "      <td>5.73164</td>\n",
              "      <td>5.75920</td>\n",
              "      <td>5.73164</td>\n",
              "      <td>5.74000</td>\n",
              "      <td>5.74000</td>\n",
              "      <td>0.0</td>\n",
              "    </tr>\n",
              "    <tr>\n",
              "      <th>3437</th>\n",
              "      <td>2020-09-11</td>\n",
              "      <td>5.76037</td>\n",
              "      <td>5.76037</td>\n",
              "      <td>5.74000</td>\n",
              "      <td>5.74000</td>\n",
              "      <td>5.74000</td>\n",
              "      <td>0.0</td>\n",
              "    </tr>\n",
              "    <tr>\n",
              "      <th>3438</th>\n",
              "      <td>2020-09-14</td>\n",
              "      <td>5.77092</td>\n",
              "      <td>5.77092</td>\n",
              "      <td>5.74000</td>\n",
              "      <td>5.74000</td>\n",
              "      <td>5.74000</td>\n",
              "      <td>0.0</td>\n",
              "    </tr>\n",
              "    <tr>\n",
              "      <th>3439</th>\n",
              "      <td>2020-09-15</td>\n",
              "      <td>5.72900</td>\n",
              "      <td>5.77000</td>\n",
              "      <td>5.72900</td>\n",
              "      <td>5.72950</td>\n",
              "      <td>5.72950</td>\n",
              "      <td>0.0</td>\n",
              "    </tr>\n",
              "  </tbody>\n",
              "</table>\n",
              "<p>3440 rows × 7 columns</p>\n",
              "</div>"
            ],
            "text/plain": [
              "            Date     Open     High      Low    Close  Adj Close  Volume\n",
              "0     2007-07-11  0.89961  0.90289  0.89840  0.90216    0.90216     0.0\n",
              "1     2007-07-12  0.90220  0.90986  0.89935  0.90834    0.90834     0.0\n",
              "2     2007-07-13  0.90831  0.91186  0.90801  0.91120    0.91120     0.0\n",
              "3     2007-07-16  0.91186  0.91239  0.90733  0.90862    0.90862     0.0\n",
              "4     2007-07-17  0.90868  0.91120  0.90733  0.90975    0.90975     0.0\n",
              "...          ...      ...      ...      ...      ...        ...     ...\n",
              "3435  2020-09-09  5.76137  5.76137  5.74000  5.74000    5.74000     0.0\n",
              "3436  2020-09-10  5.73164  5.75920  5.73164  5.74000    5.74000     0.0\n",
              "3437  2020-09-11  5.76037  5.76037  5.74000  5.74000    5.74000     0.0\n",
              "3438  2020-09-14  5.77092  5.77092  5.74000  5.74000    5.74000     0.0\n",
              "3439  2020-09-15  5.72900  5.77000  5.72900  5.72950    5.72950     0.0\n",
              "\n",
              "[3440 rows x 7 columns]"
            ]
          },
          "metadata": {
            "tags": []
          },
          "execution_count": 36
        }
      ]
    },
    {
      "cell_type": "code",
      "metadata": {
        "id": "HnHqp5nFir0h",
        "colab_type": "code",
        "colab": {
          "base_uri": "https://localhost:8080/",
          "height": 33
        },
        "outputId": "d85043b0-7cf2-420d-d1dc-1cd48eba0b50"
      },
      "source": [
        "print"
      ],
      "execution_count": 37,
      "outputs": [
        {
          "output_type": "execute_result",
          "data": {
            "text/plain": [
              "<function print>"
            ]
          },
          "metadata": {
            "tags": []
          },
          "execution_count": 37
        }
      ]
    },
    {
      "cell_type": "code",
      "metadata": {
        "id": "vZYzzL4pCMIy",
        "colab_type": "code",
        "colab": {
          "base_uri": "https://localhost:8080/",
          "height": 552
        },
        "outputId": "a0a4a8c0-6dc5-4205-9a75-add8fb8d830f"
      },
      "source": [
        "print('After Handling Outliers')\n",
        "\n",
        "fig,axes= plt.subplots(2,2,figsize = (10,8))\n",
        "axes[0,0].plot(range(df.shape[0]),df['Open'].values,color = 'y')\n",
        "axes[0,1].plot(range(df.shape[0]),df['Close'].values,color = 'b')\n",
        "axes[1,0].plot(range(df.shape[0]),df['High'].values,color = 'g')\n",
        "axes[1,1].plot(range(df.shape[0]),df['Low'].values,color = 'r')\n",
        "axes[0,0].set_title(\"open\")\n",
        "axes[0,1].set_title(\"close\")\n",
        "axes[1,0].set_title(\"high\")\n",
        "axes[1,1].set_title(\"low\")\n",
        " \n",
        "\n",
        "plt.show()\n"
      ],
      "execution_count": 38,
      "outputs": [
        {
          "output_type": "stream",
          "text": [
            "After Handling Outliers\n"
          ],
          "name": "stdout"
        },
        {
          "output_type": "display_data",
          "data": {
            "image/png": "[encoded data removed]",
            "text/plain": [
              "<Figure size 720x576 with 4 Axes>"
            ]
          },
          "metadata": {
            "tags": []
          }
        }
      ]
    },
    {
      "cell_type": "code",
      "metadata": {
        "id": "pLjGJxRdCMNZ",
        "colab_type": "code",
        "colab": {
          "base_uri": "https://localhost:8080/",
          "height": 277
        },
        "outputId": "bca6f0a8-a087-468b-e6fd-d2b536aa0d47"
      },
      "source": [
        "df.describe()"
      ],
      "execution_count": 39,
      "outputs": [
        {
          "output_type": "execute_result",
          "data": {
            "text/html": [
              "<div>\n",
              "<style scoped>\n",
              "    .dataframe tbody tr th:only-of-type {\n",
              "        vertical-align: middle;\n",
              "    }\n",
              "\n",
              "    .dataframe tbody tr th {\n",
              "        vertical-align: top;\n",
              "    }\n",
              "\n",
              "    .dataframe thead th {\n",
              "        text-align: right;\n",
              "    }\n",
              "</style>\n",
              "<table border=\"1\" class=\"dataframe\">\n",
              "  <thead>\n",
              "    <tr style=\"text-align: right;\">\n",
              "      <th></th>\n",
              "      <th>Open</th>\n",
              "      <th>High</th>\n",
              "      <th>Low</th>\n",
              "      <th>Close</th>\n",
              "      <th>Adj Close</th>\n",
              "      <th>Volume</th>\n",
              "    </tr>\n",
              "  </thead>\n",
              "  <tbody>\n",
              "    <tr>\n",
              "      <th>count</th>\n",
              "      <td>3440.000000</td>\n",
              "      <td>3436.000000</td>\n",
              "      <td>3440.000000</td>\n",
              "      <td>3438.000000</td>\n",
              "      <td>3438.000000</td>\n",
              "      <td>3440.0</td>\n",
              "    </tr>\n",
              "    <tr>\n",
              "      <th>mean</th>\n",
              "      <td>2.945314</td>\n",
              "      <td>2.967382</td>\n",
              "      <td>2.931188</td>\n",
              "      <td>2.947281</td>\n",
              "      <td>2.947281</td>\n",
              "      <td>0.0</td>\n",
              "    </tr>\n",
              "    <tr>\n",
              "      <th>std</th>\n",
              "      <td>1.561933</td>\n",
              "      <td>1.573847</td>\n",
              "      <td>1.553916</td>\n",
              "      <td>1.564764</td>\n",
              "      <td>1.564764</td>\n",
              "      <td>0.0</td>\n",
              "    </tr>\n",
              "    <tr>\n",
              "      <th>min</th>\n",
              "      <td>0.899610</td>\n",
              "      <td>0.902890</td>\n",
              "      <td>0.600000</td>\n",
              "      <td>0.902160</td>\n",
              "      <td>0.902160</td>\n",
              "      <td>0.0</td>\n",
              "    </tr>\n",
              "    <tr>\n",
              "      <th>25%</th>\n",
              "      <td>1.460550</td>\n",
              "      <td>1.466750</td>\n",
              "      <td>1.455750</td>\n",
              "      <td>1.460075</td>\n",
              "      <td>1.460075</td>\n",
              "      <td>0.0</td>\n",
              "    </tr>\n",
              "    <tr>\n",
              "      <th>50%</th>\n",
              "      <td>2.482950</td>\n",
              "      <td>2.498250</td>\n",
              "      <td>2.465350</td>\n",
              "      <td>2.472500</td>\n",
              "      <td>2.472500</td>\n",
              "      <td>0.0</td>\n",
              "    </tr>\n",
              "    <tr>\n",
              "      <th>75%</th>\n",
              "      <td>4.364700</td>\n",
              "      <td>4.400000</td>\n",
              "      <td>4.355750</td>\n",
              "      <td>4.369525</td>\n",
              "      <td>4.369525</td>\n",
              "      <td>0.0</td>\n",
              "    </tr>\n",
              "    <tr>\n",
              "      <th>max</th>\n",
              "      <td>5.818130</td>\n",
              "      <td>5.818130</td>\n",
              "      <td>5.763620</td>\n",
              "      <td>5.850000</td>\n",
              "      <td>5.850000</td>\n",
              "      <td>0.0</td>\n",
              "    </tr>\n",
              "  </tbody>\n",
              "</table>\n",
              "</div>"
            ],
            "text/plain": [
              "              Open         High          Low        Close    Adj Close  Volume\n",
              "count  3440.000000  3436.000000  3440.000000  3438.000000  3438.000000  3440.0\n",
              "mean      2.945314     2.967382     2.931188     2.947281     2.947281     0.0\n",
              "std       1.561933     1.573847     1.553916     1.564764     1.564764     0.0\n",
              "min       0.899610     0.902890     0.600000     0.902160     0.902160     0.0\n",
              "25%       1.460550     1.466750     1.455750     1.460075     1.460075     0.0\n",
              "50%       2.482950     2.498250     2.465350     2.472500     2.472500     0.0\n",
              "75%       4.364700     4.400000     4.355750     4.369525     4.369525     0.0\n",
              "max       5.818130     5.818130     5.763620     5.850000     5.850000     0.0"
            ]
          },
          "metadata": {
            "tags": []
          },
          "execution_count": 39
        }
      ]
    },
    {
      "cell_type": "code",
      "metadata": {
        "id": "HMf1XmIqjzdw",
        "colab_type": "code",
        "colab": {}
      },
      "source": [
        ""
      ],
      "execution_count": 39,
      "outputs": []
    },
    {
      "cell_type": "markdown",
      "metadata": {
        "id": "u5mkJ5yBjzpu",
        "colab_type": "text"
      },
      "source": [
        "#Build Time Series Model for forcasting exchange rates\n",
        "\n",
        "LSTMS\n"
      ]
    },
    {
      "cell_type": "code",
      "metadata": {
        "id": "G_mA60ytCMQl",
        "colab_type": "code",
        "colab": {
          "base_uri": "https://localhost:8080/",
          "height": 212
        },
        "outputId": "937288a5-8f50-4efa-f8d4-7c3873d0bf0f"
      },
      "source": [
        "#select opening exchange rates\n",
        "data = df['Open']\n",
        "data\n"
      ],
      "execution_count": 40,
      "outputs": [
        {
          "output_type": "execute_result",
          "data": {
            "text/plain": [
              "0       0.89961\n",
              "1       0.90220\n",
              "2       0.90831\n",
              "3       0.91186\n",
              "4       0.90868\n",
              "         ...   \n",
              "3435    5.76137\n",
              "3436    5.73164\n",
              "3437    5.76037\n",
              "3438    5.77092\n",
              "3439    5.72900\n",
              "Name: Open, Length: 3440, dtype: float64"
            ]
          },
          "metadata": {
            "tags": []
          },
          "execution_count": 40
        }
      ]
    },
    {
      "cell_type": "code",
      "metadata": {
        "id": "cDPkgED7uO8I",
        "colab_type": "code",
        "colab": {
          "base_uri": "https://localhost:8080/",
          "height": 33
        },
        "outputId": "f29d5708-9abf-48b0-fd9a-8d6d335ba10d"
      },
      "source": [
        "data.shape"
      ],
      "execution_count": 41,
      "outputs": [
        {
          "output_type": "execute_result",
          "data": {
            "text/plain": [
              "(3440,)"
            ]
          },
          "metadata": {
            "tags": []
          },
          "execution_count": 41
        }
      ]
    },
    {
      "cell_type": "code",
      "metadata": {
        "id": "zeo8y4c3CMLr",
        "colab_type": "code",
        "colab": {}
      },
      "source": [
        "#zoom(column = 'Open',scope = )"
      ],
      "execution_count": 42,
      "outputs": []
    },
    {
      "cell_type": "code",
      "metadata": {
        "id": "rHFM9ab3CMBY",
        "colab_type": "code",
        "colab": {
          "base_uri": "https://localhost:8080/",
          "height": 557
        },
        "outputId": "41fbf18c-401f-4dab-9c19-552f3f7ddbad"
      },
      "source": [
        "plt.figure(figsize= (16,8))\n",
        "plt.title('GHS/USD Opening Exchange Rate History')\n",
        "plt.plot(data)\n",
        "plt.xlabel('Date')\n",
        "plt.ylabel(str())\n",
        "plt.show()"
      ],
      "execution_count": 43,
      "outputs": [
        {
          "output_type": "display_data",
          "data": {
            "image/png": "[encoded data removed]",
            "text/plain": [
              "<Figure size 1152x576 with 1 Axes>"
            ]
          },
          "metadata": {
            "tags": []
          }
        }
      ]
    },
    {
      "cell_type": "code",
      "metadata": {
        "id": "tiyKnQBBCL4d",
        "colab_type": "code",
        "colab": {
          "base_uri": "https://localhost:8080/",
          "height": 33
        },
        "outputId": "cdd64c3f-33a1-4ff9-8e0c-c4ab443f82e9"
      },
      "source": [
        "data.shape"
      ],
      "execution_count": 44,
      "outputs": [
        {
          "output_type": "execute_result",
          "data": {
            "text/plain": [
              "(3440,)"
            ]
          },
          "metadata": {
            "tags": []
          },
          "execution_count": 44
        }
      ]
    },
    {
      "cell_type": "code",
      "metadata": {
        "id": "55t7eNxMCLzo",
        "colab_type": "code",
        "colab": {
          "base_uri": "https://localhost:8080/",
          "height": 33
        },
        "outputId": "35a29a19-ac60-4e00-ee0f-c436020540df"
      },
      "source": [
        "#reshape data into one column feature\n",
        "data_r = np.reshape(data.values,(-1,1))\n",
        "data_r.shape"
      ],
      "execution_count": 45,
      "outputs": [
        {
          "output_type": "execute_result",
          "data": {
            "text/plain": [
              "(3440, 1)"
            ]
          },
          "metadata": {
            "tags": []
          },
          "execution_count": 45
        }
      ]
    },
    {
      "cell_type": "code",
      "metadata": {
        "id": "59Ly_pql9R7w",
        "colab_type": "code",
        "colab": {
          "base_uri": "https://localhost:8080/",
          "height": 131
        },
        "outputId": "a4fb7f9f-56ec-419b-a193-5a00b5cbc440"
      },
      "source": [
        "#normalize data\n",
        "from sklearn.preprocessing import MinMaxScaler\n",
        "sc = MinMaxScaler()\n",
        "scaled_data = sc.fit_transform(data_r)\n",
        "scaled_data"
      ],
      "execution_count": 46,
      "outputs": [
        {
          "output_type": "execute_result",
          "data": {
            "text/plain": [
              "array([[0.00000000e+00],\n",
              "       [5.26581167e-04],\n",
              "       [1.76882477e-03],\n",
              "       ...,\n",
              "       [9.88256630e-01],\n",
              "       [9.90401584e-01],\n",
              "       [9.81878695e-01]])"
            ]
          },
          "metadata": {
            "tags": []
          },
          "execution_count": 46
        }
      ]
    },
    {
      "cell_type": "code",
      "metadata": {
        "id": "yvNIlt1H92QA",
        "colab_type": "code",
        "colab": {
          "base_uri": "https://localhost:8080/",
          "height": 33
        },
        "outputId": "fd159d1d-4835-4af7-f451-58b06e0f981d"
      },
      "source": [
        "#check scaling using means \n",
        "data.values.mean(),np.mean(scaled_data)"
      ],
      "execution_count": 47,
      "outputs": [
        {
          "output_type": "execute_result",
          "data": {
            "text/plain": [
              "(2.9453144156976747, 0.41591869417989036)"
            ]
          },
          "metadata": {
            "tags": []
          },
          "execution_count": 47
        }
      ]
    },
    {
      "cell_type": "code",
      "metadata": {
        "id": "p0c5hpV7-OP7",
        "colab_type": "code",
        "colab": {
          "base_uri": "https://localhost:8080/",
          "height": 66
        },
        "outputId": "6b82de39-ead4-4ba9-86fb-24a115e2e358"
      },
      "source": [
        "#prepare time series as as as supervised learning problem\n",
        "#make labels\n",
        "\n",
        "timeseriesX = []\n",
        "timeseriesY = []\n",
        "\n",
        "timestep = 60\n",
        "for i in range(timestep,len(scaled_data)):\n",
        "  timeseriesX.append(scaled_data[i-timestep:i,-1])\n",
        "  timeseriesY.append(scaled_data[i,-1])\n",
        "timeseriesX = np.array(timeseriesX)\n",
        "timeseriesY = np.array(timeseriesY)\n",
        "\n",
        "print('Because',timestep,'observations per timestep was used,', timeseriesX.shape[0]-timestep,'trainable samples created from',timeseriesX.shape[0],'rows of the original data')\n",
        "print('apparent percentage of data used               : ',(timeseriesX.shape[0]-timestep)/timeseriesX.shape[0])\n",
        "print('apparent percentage of data lost in conversion : ',1-(timeseriesX.shape[0]-timestep)/timeseriesX.shape[0])\n",
        " "
      ],
      "execution_count": 48,
      "outputs": [
        {
          "output_type": "stream",
          "text": [
            "Because 60 observations per timestep was used, 3320 trainable samples created from 3380 rows of the original data\n",
            "apparent percentage of data used               :  0.9822485207100592\n",
            "apparent percentage of data lost in conversion :  0.017751479289940808\n"
          ],
          "name": "stdout"
        }
      ]
    },
    {
      "cell_type": "code",
      "metadata": {
        "id": "jT_-jFFABzE2",
        "colab_type": "code",
        "colab": {
          "base_uri": "https://localhost:8080/",
          "height": 33
        },
        "outputId": "30f4e3cb-494b-48b0-d027-d7ab3dd45e05"
      },
      "source": [
        "timeseriesX.shape#[0:3]"
      ],
      "execution_count": 49,
      "outputs": [
        {
          "output_type": "execute_result",
          "data": {
            "text/plain": [
              "(3380, 60)"
            ]
          },
          "metadata": {
            "tags": []
          },
          "execution_count": 49
        }
      ]
    },
    {
      "cell_type": "code",
      "metadata": {
        "id": "xytW1-5k-OTN",
        "colab_type": "code",
        "colab": {
          "base_uri": "https://localhost:8080/",
          "height": 33
        },
        "outputId": "91819bc5-72ee-485f-99d2-4a55836ab1cc"
      },
      "source": [
        "timeseriesX.shape"
      ],
      "execution_count": 50,
      "outputs": [
        {
          "output_type": "execute_result",
          "data": {
            "text/plain": [
              "(3380, 60)"
            ]
          },
          "metadata": {
            "tags": []
          },
          "execution_count": 50
        }
      ]
    },
    {
      "cell_type": "code",
      "metadata": {
        "id": "sJdnRkzINLdh",
        "colab_type": "code",
        "colab": {}
      },
      "source": [
        "from math import ceil,floor\n",
        "def split(data = None,test_size = 0.3):\n",
        "    train = data[0:floor(data.shape[0]*(1-test_size))]\n",
        "    test = data[ceil(data.shape[0]*(1-test_size)):-1]\n",
        "    #print(floor(data.shape[0]*(1-test_size)))\n",
        "    #print(ceil(data.shape[0]*(1-test_size)))\n",
        "    return train,test"
      ],
      "execution_count": 51,
      "outputs": []
    },
    {
      "cell_type": "code",
      "metadata": {
        "id": "MiTPX5WZOzeU",
        "colab_type": "code",
        "colab": {}
      },
      "source": [
        "xtrain,xtest = split(timeseriesX)\n",
        "ytrain,ytest = split(timeseriesY)\n"
      ],
      "execution_count": 52,
      "outputs": []
    },
    {
      "cell_type": "code",
      "metadata": {
        "id": "caCeMGtCTfV-",
        "colab_type": "code",
        "colab": {
          "base_uri": "https://localhost:8080/",
          "height": 33
        },
        "outputId": "7a29f71b-3d41-4d26-ea96-0d8ed5676210"
      },
      "source": [
        "xtrain.shape,ytrain.shape,xtest.shape,ytest.shape"
      ],
      "execution_count": 53,
      "outputs": [
        {
          "output_type": "execute_result",
          "data": {
            "text/plain": [
              "((2366, 60), (2366,), (1013, 60), (1013,))"
            ]
          },
          "metadata": {
            "tags": []
          },
          "execution_count": 53
        }
      ]
    },
    {
      "cell_type": "code",
      "metadata": {
        "id": "s-wV_b7l9R_I",
        "colab_type": "code",
        "colab": {
          "base_uri": "https://localhost:8080/",
          "height": 33
        },
        "outputId": "4bd8e557-59c3-43fa-c792-90037e8230c6"
      },
      "source": [
        "#reshape training and testing input for LSTM input 3D\n",
        "\n",
        "xtrain = np.reshape(xtrain,(xtrain.shape[0],timestep,1))\n",
        "xtest = np.reshape(xtest,(xtest.shape[0],timestep,1))\n",
        "\n",
        "ytrain = np.reshape(ytrain,(-1,1))\n",
        "ytest = np.reshape(ytest,(-1,1))\n",
        "\n",
        "xtrain.shape,ytrain.shape,xtest.shape,ytest.shape"
      ],
      "execution_count": 54,
      "outputs": [
        {
          "output_type": "execute_result",
          "data": {
            "text/plain": [
              "((2366, 60, 1), (2366, 1), (1013, 60, 1), (1013, 1))"
            ]
          },
          "metadata": {
            "tags": []
          },
          "execution_count": 54
        }
      ]
    },
    {
      "cell_type": "code",
      "metadata": {
        "id": "dFUwgUHvLTDl",
        "colab_type": "code",
        "colab": {
          "base_uri": "https://localhost:8080/",
          "height": 813
        },
        "outputId": "7fca629e-e891-44d2-a09c-93e39cdd6e11"
      },
      "source": [
        "xtest"
      ],
      "execution_count": 55,
      "outputs": [
        {
          "output_type": "execute_result",
          "data": {
            "text/plain": [
              "array([[[0.62128242],\n",
              "        [0.61746013],\n",
              "        [0.62197368],\n",
              "        ...,\n",
              "        [0.62065215],\n",
              "        [0.63283061],\n",
              "        [0.62014386]],\n",
              "\n",
              "       [[0.61746013],\n",
              "        [0.62197368],\n",
              "        [0.61682986],\n",
              "        ...,\n",
              "        [0.63283061],\n",
              "        [0.62014386],\n",
              "        [0.622177  ]],\n",
              "\n",
              "       [[0.62197368],\n",
              "        [0.61682986],\n",
              "        [0.61365817],\n",
              "        ...,\n",
              "        [0.62014386],\n",
              "        [0.622177  ],\n",
              "        [0.62337654]],\n",
              "\n",
              "       ...,\n",
              "\n",
              "       [[0.99162553],\n",
              "        [0.99722884],\n",
              "        [0.99226393],\n",
              "        ...,\n",
              "        [0.98859413],\n",
              "        [0.9882363 ],\n",
              "        [0.98845994]],\n",
              "\n",
              "       [[0.99722884],\n",
              "        [0.99226393],\n",
              "        [0.9842107 ],\n",
              "        ...,\n",
              "        [0.9882363 ],\n",
              "        [0.98845994],\n",
              "        [0.98241544]],\n",
              "\n",
              "       [[0.99226393],\n",
              "        [0.9842107 ],\n",
              "        [0.98518253],\n",
              "        ...,\n",
              "        [0.98845994],\n",
              "        [0.98241544],\n",
              "        [0.98825663]]])"
            ]
          },
          "metadata": {
            "tags": []
          },
          "execution_count": 55
        }
      ]
    },
    {
      "cell_type": "code",
      "metadata": {
        "id": "PG_BTm_nDH4G",
        "colab_type": "code",
        "colab": {
          "base_uri": "https://localhost:8080/",
          "height": 33
        },
        "outputId": "f2de14b6-4a31-4662-e2cd-6856b2e89d36"
      },
      "source": [
        "timeseriesY.shape"
      ],
      "execution_count": 56,
      "outputs": [
        {
          "output_type": "execute_result",
          "data": {
            "text/plain": [
              "(3380,)"
            ]
          },
          "metadata": {
            "tags": []
          },
          "execution_count": 56
        }
      ]
    },
    {
      "cell_type": "code",
      "metadata": {
        "id": "BTJBBTglG_Er",
        "colab_type": "code",
        "colab": {}
      },
      "source": [
        ""
      ],
      "execution_count": 56,
      "outputs": []
    },
    {
      "cell_type": "code",
      "metadata": {
        "id": "h9j_Eyc4G_Kc",
        "colab_type": "code",
        "colab": {}
      },
      "source": [
        ""
      ],
      "execution_count": 56,
      "outputs": []
    },
    {
      "cell_type": "code",
      "metadata": {
        "id": "WZKVMEK2G_Iq",
        "colab_type": "code",
        "colab": {}
      },
      "source": [
        ""
      ],
      "execution_count": 56,
      "outputs": []
    },
    {
      "cell_type": "code",
      "metadata": {
        "id": "i1CZUbzrDH-P",
        "colab_type": "code",
        "colab": {}
      },
      "source": [
        "#Build Time Series Model\n",
        "from keras.models import Sequential\n",
        "from keras.layers import Dense,LSTM,Bidirectional\n",
        "from keras.callbacks import ModelCheckpoint\n",
        "from keras.metrics import RootMeanSquaredError\n"
      ],
      "execution_count": 57,
      "outputs": []
    },
    {
      "cell_type": "code",
      "metadata": {
        "id": "ohtr8VUhDIKF",
        "colab_type": "code",
        "colab": {}
      },
      "source": [
        "model = Sequential()\n",
        "model.add(Bidirectional(LSTM(units=40,return_sequences=True,input_shape = (timestep,1))))\n",
        "model.add(Bidirectional(LSTM(units=20,return_sequences=True)))\n",
        "model.add(Bidirectional(LSTM(units=20,return_sequences=False)))\n",
        "model.add(Dense(units = 20))\n",
        "model.add(Dense(units = 5))\n",
        "model.add(Dense(units = 1))\n",
        "model.compile(optimizer= 'adam',loss = 'mean_squared_error',metrics = [RootMeanSquaredError(),'mse'])\n"
      ],
      "execution_count": 69,
      "outputs": []
    },
    {
      "cell_type": "code",
      "metadata": {
        "id": "Wlo0zJtDDIMq",
        "colab_type": "code",
        "colab": {}
      },
      "source": [
        "#model.summary()"
      ],
      "execution_count": 70,
      "outputs": []
    },
    {
      "cell_type": "code",
      "metadata": {
        "id": "95_kdcfZDIUu",
        "colab_type": "code",
        "colab": {
          "base_uri": "https://localhost:8080/",
          "height": 362
        },
        "outputId": "74c09f7f-df30-4cff-c1da-83d740556387"
      },
      "source": [
        "hist = model.fit(x = xtrain,y = ytrain,epochs=5,validation_data=(xtest,ytest),callbacks= ModelCheckpoint('forex.hdf5',save_best_only=True,mode = 'min',verbose = 1))"
      ],
      "execution_count": 78,
      "outputs": [
        {
          "output_type": "stream",
          "text": [
            "Epoch 1/5\n",
            "74/74 [==============================] - ETA: 0s - loss: 2.0334e-04 - root_mean_squared_error: 0.0143 - mse: 2.0334e-04\n",
            "Epoch 00001: val_loss improved from inf to 0.00202, saving model to forex.hdf5\n",
            "74/74 [==============================] - 8s 107ms/step - loss: 2.0334e-04 - root_mean_squared_error: 0.0143 - mse: 2.0334e-04 - val_loss: 0.0020 - val_root_mean_squared_error: 0.0450 - val_mse: 0.0020\n",
            "Epoch 2/5\n",
            "74/74 [==============================] - ETA: 0s - loss: 1.6840e-04 - root_mean_squared_error: 0.0130 - mse: 1.6840e-04\n",
            "Epoch 00002: val_loss did not improve from 0.00202\n",
            "74/74 [==============================] - 8s 106ms/step - loss: 1.6840e-04 - root_mean_squared_error: 0.0130 - mse: 1.6840e-04 - val_loss: 0.0039 - val_root_mean_squared_error: 0.0628 - val_mse: 0.0039\n",
            "Epoch 3/5\n",
            "74/74 [==============================] - ETA: 0s - loss: 1.9845e-04 - root_mean_squared_error: 0.0141 - mse: 1.9845e-04\n",
            "Epoch 00003: val_loss did not improve from 0.00202\n",
            "74/74 [==============================] - 8s 109ms/step - loss: 1.9845e-04 - root_mean_squared_error: 0.0141 - mse: 1.9845e-04 - val_loss: 0.0046 - val_root_mean_squared_error: 0.0678 - val_mse: 0.0046\n",
            "Epoch 4/5\n",
            "74/74 [==============================] - ETA: 0s - loss: 1.3873e-04 - root_mean_squared_error: 0.0118 - mse: 1.3873e-04\n",
            "Epoch 00004: val_loss did not improve from 0.00202\n",
            "74/74 [==============================] - 8s 104ms/step - loss: 1.3873e-04 - root_mean_squared_error: 0.0118 - mse: 1.3873e-04 - val_loss: 0.0032 - val_root_mean_squared_error: 0.0568 - val_mse: 0.0032\n",
            "Epoch 5/5\n",
            "74/74 [==============================] - ETA: 0s - loss: 1.3676e-04 - root_mean_squared_error: 0.0117 - mse: 1.3676e-04\n",
            "Epoch 00005: val_loss improved from 0.00202 to 0.00074, saving model to forex.hdf5\n",
            "74/74 [==============================] - 8s 106ms/step - loss: 1.3676e-04 - root_mean_squared_error: 0.0117 - mse: 1.3676e-04 - val_loss: 7.4213e-04 - val_root_mean_squared_error: 0.0272 - val_mse: 7.4213e-04\n"
          ],
          "name": "stdout"
        }
      ]
    },
    {
      "cell_type": "code",
      "metadata": {
        "id": "j4QQZQzvDIR5",
        "colab_type": "code",
        "colab": {
          "base_uri": "https://localhost:8080/",
          "height": 413
        },
        "outputId": "2d2ebb4c-55c9-4f77-c43c-4cd4c297d604"
      },
      "source": [
        "plt.figure(figsize=(6,6))\n",
        "plt.plot(hist.history['loss'])\n",
        "plt.plot(hist.history['val_loss'])\n",
        "plt.legend(['train loss','val loss'])"
      ],
      "execution_count": 79,
      "outputs": [
        {
          "output_type": "execute_result",
          "data": {
            "text/plain": [
              "<matplotlib.legend.Legend at 0x7fd2bc78ff28>"
            ]
          },
          "metadata": {
            "tags": []
          },
          "execution_count": 79
        },
        {
          "output_type": "display_data",
          "data": {
            "image/png": "[encoded data removed]",
            "text/plain": [
              "<Figure size 432x432 with 1 Axes>"
            ]
          },
          "metadata": {
            "tags": []
          }
        }
      ]
    },
    {
      "cell_type": "code",
      "metadata": {
        "id": "2nkrzJT6DH8I",
        "colab_type": "code",
        "colab": {
          "base_uri": "https://localhost:8080/",
          "height": 416
        },
        "outputId": "399e67fd-d3a8-4453-ff56-63a3334b5d70"
      },
      "source": [
        "plt.figure(figsize=(6,6))\n",
        "plt.plot(hist.history['root_mean_squared_error'])\n",
        "plt.plot(hist.history['val_root_mean_squared_error'])\n",
        "plt.legend(['train rmse','val rmse'])"
      ],
      "execution_count": 80,
      "outputs": [
        {
          "output_type": "execute_result",
          "data": {
            "text/plain": [
              "<matplotlib.legend.Legend at 0x7fd2bc804278>"
            ]
          },
          "metadata": {
            "tags": []
          },
          "execution_count": 80
        },
        {
          "output_type": "display_data",
          "data": {
            "image/png": "[encoded data removed]",
            "text/plain": [
              "<Figure size 432x432 with 1 Axes>"
            ]
          },
          "metadata": {
            "tags": []
          }
        }
      ]
    },
    {
      "cell_type": "code",
      "metadata": {
        "id": "2GhmfcReSF5-",
        "colab_type": "code",
        "colab": {}
      },
      "source": [
        "test_prediction = sc.inverse_transform(model.predict(xtest))\n",
        "train_prediction = sc.inverse_transform(model.predict(xtrain))\n",
        "\n",
        "\n"
      ],
      "execution_count": 92,
      "outputs": []
    },
    {
      "cell_type": "code",
      "metadata": {
        "id": "_eAYs82ZjY9_",
        "colab_type": "code",
        "colab": {
          "base_uri": "https://localhost:8080/",
          "height": 552
        },
        "outputId": "148a6b4e-cd1b-49a7-f44e-280b72ef7200"
      },
      "source": [
        "fig,axes= plt.subplots(1,2,figsize = (15,8))\n",
        "axes[0].set_title('Prediction on Test Data')\n",
        "axes[0].plot(range(len(test_prediction)),test_prediction)\n",
        "axes[0].plot(range(len(test_prediction)),sc.inverse_transform(ytest))\n",
        "axes[0].legend(['gt','forecast'])\n",
        "\n",
        "axes[1].set_title('Prediction on Train Data')\n",
        "axes[1].plot(range(len(train_prediction)),train_prediction)\n",
        "axes[1].plot(range(len(train_prediction)),sc.inverse_transform(ytrain))\n",
        "axes[1].legend(['gt','forecast'])\n",
        "axes[0].set_ylabel('GHC')"
      ],
      "execution_count": 98,
      "outputs": [
        {
          "output_type": "execute_result",
          "data": {
            "text/plain": [
              "Text(0, 0.5, 'GHC')"
            ]
          },
          "metadata": {
            "tags": []
          },
          "execution_count": 98
        },
        {
          "output_type": "display_data",
          "data": {
            "image/png": "[encoded data removed]",
            "text/plain": [
              "<Figure size 1080x576 with 2 Axes>"
            ]
          },
          "metadata": {
            "tags": []
          }
        }
      ]
    },
    {
      "cell_type": "code",
      "metadata": {
        "id": "HFduBL5RXcvE",
        "colab_type": "code",
        "colab": {}
      },
      "source": [
        ""
      ],
      "execution_count": 81,
      "outputs": []
    },
    {
      "cell_type": "code",
      "metadata": {
        "id": "LGQgyruqSAbD",
        "colab_type": "code",
        "colab": {
          "base_uri": "https://localhost:8080/",
          "height": 82
        },
        "outputId": "4d15dbf8-92d3-4451-ec65-48300e92060d"
      },
      "source": [
        "#Evaluate testing and training fit\n",
        "\n",
        "from sklearn.metrics import r2_score\n",
        "print('r2 score\\n-------- \\ntest fit: ',r2_score(y_true = sc.inverse_transform(ytest),y_pred=prediction),'\\ntrain fit: ',\n",
        "r2_score(y_true = sc.inverse_transform(ytrain),y_pred=sc.inverse_transform(model.predict(xtrain))))"
      ],
      "execution_count": 102,
      "outputs": [
        {
          "output_type": "stream",
          "text": [
            "r2 score\n",
            "-------- \n",
            "test fit:  0.9392135625484066 \n",
            "train fit:  0.9946283583471768\n"
          ],
          "name": "stdout"
        }
      ]
    },
    {
      "cell_type": "code",
      "metadata": {
        "id": "I6RHAEnnVTJL",
        "colab_type": "code",
        "colab": {
          "base_uri": "https://localhost:8080/",
          "height": 35
        },
        "outputId": "a06d010c-be8a-4576-da46-7021fc258e2c"
      },
      "source": [
        "#date at 1000 on test prediction\n",
        "\n",
        "getDate(1000+len(xtrain)+timestep)"
      ],
      "execution_count": 77,
      "outputs": [
        {
          "output_type": "execute_result",
          "data": {
            "application/vnd.google.colaboratory.intrinsic+json": {
              "type": "string"
            },
            "text/plain": [
              "'2020-08-27'"
            ]
          },
          "metadata": {
            "tags": []
          },
          "execution_count": 77
        }
      ]
    }
  ]
}